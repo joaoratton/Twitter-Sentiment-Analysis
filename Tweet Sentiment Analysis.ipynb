{
 "cells": [
  {
   "cell_type": "markdown",
   "metadata": {},
   "source": [
    "# Part I: Tweet Extraction and Sentiment Analysis"
   ]
  },
  {
   "cell_type": "markdown",
   "metadata": {
    "heading_collapsed": true
   },
   "source": [
    "## Libraries"
   ]
  },
  {
   "cell_type": "code",
   "execution_count": 4,
   "metadata": {
    "ExecuteTime": {
     "end_time": "2020-05-22T13:42:49.123984Z",
     "start_time": "2020-05-22T13:42:45.675190Z"
    },
    "hidden": true
   },
   "outputs": [],
   "source": [
    "import pandas as pd\n",
    "import numpy as np\n",
    "import tweepy\n",
    "import re\n",
    "import string\n",
    "import spacy\n",
    "import pickle\n",
    "from sklearn.feature_extraction.text import TfidfVectorizer\n",
    "from sklearn.model_selection import train_test_split\n",
    "from sklearn import naive_bayes\n",
    "from sklearn.metrics import roc_auc_score\n",
    "from sklearn.model_selection import learning_curve\n",
    "from datetime import datetime, timedelta"
   ]
  },
  {
   "cell_type": "markdown",
   "metadata": {
    "heading_collapsed": true
   },
   "source": [
    "## Vectorizer & Model"
   ]
  },
  {
   "cell_type": "code",
   "execution_count": 5,
   "metadata": {
    "ExecuteTime": {
     "end_time": "2020-05-22T13:42:51.480845Z",
     "start_time": "2020-05-22T13:42:51.468044Z"
    },
    "hidden": true
   },
   "outputs": [],
   "source": [
    "loaded_model = pickle.load(open('modelo_final.sav', 'rb'))"
   ]
  },
  {
   "cell_type": "code",
   "execution_count": 11,
   "metadata": {
    "ExecuteTime": {
     "end_time": "2020-05-22T13:43:09.571090Z",
     "start_time": "2020-05-22T13:43:09.449600Z"
    },
    "hidden": true
   },
   "outputs": [],
   "source": [
    "loaded_class = pickle.load(open('modelo_lemm.sav', 'rb'))"
   ]
  },
  {
   "cell_type": "code",
   "execution_count": 75,
   "metadata": {
    "ExecuteTime": {
     "end_time": "2020-05-22T14:46:39.048451Z",
     "start_time": "2020-05-22T14:46:39.037079Z"
    },
    "hidden": true
   },
   "outputs": [],
   "source": [
    "def classify_tweets(tweet):\n",
    "    \n",
    "    tweets_vector = loaded_class.transform(tweet)\n",
    "    result_labels = loaded_model.predict(tweets_vector)\n",
    "    \n",
    "    return print(\n",
    "        'Overall negative sentiment: {:.1%}'.format(np.count_nonzero(result_labels == 0) / len(result_labels)),\n",
    "        'Overall positive sentiment: {:.1%}'.format(np.count_nonzero(result_labels == 4) / len(result_labels)), sep='\\n')"
   ]
  },
  {
   "cell_type": "code",
   "execution_count": 44,
   "metadata": {
    "ExecuteTime": {
     "end_time": "2020-05-22T14:29:57.256561Z",
     "start_time": "2020-05-22T14:29:57.248431Z"
    },
    "hidden": true
   },
   "outputs": [],
   "source": [
    "def get_labels(tweet):\n",
    "    \n",
    "    tweets_vector = loaded_class.transform(tweet)\n",
    "    result_labels = loaded_model.predict(tweets_vector)\n",
    "    \n",
    "    return result_labels"
   ]
  },
  {
   "cell_type": "markdown",
   "metadata": {
    "heading_collapsed": true
   },
   "source": [
    "## Text Preprocessing"
   ]
  },
  {
   "cell_type": "code",
   "execution_count": 8,
   "metadata": {
    "ExecuteTime": {
     "end_time": "2020-05-22T13:43:03.719529Z",
     "start_time": "2020-05-22T13:43:02.723739Z"
    },
    "hidden": true
   },
   "outputs": [],
   "source": [
    "regexp = re.compile('(?u)\\\\b\\\\w\\\\w+\\\\b')\n",
    "en_nlp = spacy.load('en', disable=['parser', 'ner'])\n",
    "old_tokenizer = en_nlp.tokenizer\n",
    "en_nlp.tokenizer = lambda string: old_tokenizer.tokens_from_list(regexp.findall(string))"
   ]
  },
  {
   "cell_type": "code",
   "execution_count": 9,
   "metadata": {
    "ExecuteTime": {
     "end_time": "2020-05-22T13:43:03.995786Z",
     "start_time": "2020-05-22T13:43:03.985492Z"
    },
    "hidden": true
   },
   "outputs": [],
   "source": [
    "def custom_tokenizer(document):\n",
    "    \n",
    "    doc_spacy = en_nlp(document)  \n",
    "    \n",
    "    return [token.lemma_ for token in doc_spacy]"
   ]
  },
  {
   "cell_type": "code",
   "execution_count": 10,
   "metadata": {
    "ExecuteTime": {
     "end_time": "2020-05-22T13:43:06.089071Z",
     "start_time": "2020-05-22T13:43:06.080198Z"
    },
    "hidden": true
   },
   "outputs": [],
   "source": [
    "def preprocess_tweet_text(tweet):\n",
    "\n",
    "    tweet = re.sub(r\"http\\S+|www\\S+|https\\S+\", '', tweet, flags=re.MULTILINE)\n",
    "    tweet = re.sub(r'\\@\\w+|\\#','', tweet)\n",
    "    tweet = re.sub(r'^RT', '', tweet)\n",
    "    tweet = tweet.translate(str.maketrans('', '', string.punctuation))\n",
    "    tweet = re.sub(r'[0-9]+', '', tweet)\n",
    "    \n",
    "    return tweet"
   ]
  },
  {
   "cell_type": "markdown",
   "metadata": {
    "heading_collapsed": true
   },
   "source": [
    "## Tweet Extraction"
   ]
  },
  {
   "cell_type": "code",
   "execution_count": 145,
   "metadata": {
    "ExecuteTime": {
     "end_time": "2020-05-22T19:34:58.524521Z",
     "start_time": "2020-05-22T19:34:58.506366Z"
    },
    "hidden": true
   },
   "outputs": [],
   "source": [
    "def get_tweets_labels(keyword):\n",
    "    \n",
    "    credentials = pd.read_csv('/Users/joaootaviomeirellesratton/desktop/credentials.csv')\n",
    "    \n",
    "    authenticate = tweepy.OAuthHandler(credentials['key'][0], credentials['key'][1])\n",
    "    authenticate.set_access_token(credentials['key'][2], credentials['key'][3])\n",
    "    api = tweepy.API(authenticate, wait_on_rate_limit = True)\n",
    "    \n",
    "    end_date = datetime.strftime(datetime.now(), '%Y-%m-%d')\n",
    "    start_date = datetime.strftime(datetime.now() - timedelta(7), '%Y-%m-%d')\n",
    "    \n",
    "    try:\n",
    "        fetched_tweets = api.search(keyword, lang='en', count=15, since=start_date, until=end_date)\n",
    "        \n",
    "        print('Fetched ' + str(len(fetched_tweets)) + ' tweets for the string: ' +  keyword)\n",
    "        print('From ' + start_date + ' To ' + end_date)\n",
    "        \n",
    "        tweet_list = [result.text for result in fetched_tweets]\n",
    "        \n",
    "        results = list(map(preprocess_tweet_text, tweet_list))\n",
    "        \n",
    "        labels = get_labels(results)\n",
    "        \n",
    "        tuples = list(zip(results, labels))\n",
    "        \n",
    "        df = pd.DataFrame(tuples, columns=['Tweet', 'Sentiment'])\n",
    "        \n",
    "        map_labels = {0 : 'Negative', 4 : 'Positive'}\n",
    "        \n",
    "        pd.set_option('display.max_colwidth', 200)\n",
    "        \n",
    "        return df.replace({'Sentiment' : map_labels})\n",
    "    \n",
    "    except:\n",
    "        return print('Something went wrong...')"
   ]
  },
  {
   "cell_type": "code",
   "execution_count": 71,
   "metadata": {
    "ExecuteTime": {
     "end_time": "2020-05-22T14:43:48.750158Z",
     "start_time": "2020-05-22T14:43:48.734450Z"
    },
    "hidden": true
   },
   "outputs": [],
   "source": [
    "def get_tweets(keyword):\n",
    "    \n",
    "    credentials = pd.read_csv('/Users/joaootaviomeirellesratton/desktop/credentials.csv')\n",
    "    \n",
    "    authenticate = tweepy.OAuthHandler(credentials['key'][0], credentials['key'][1])\n",
    "    authenticate.set_access_token(credentials['key'][2], credentials['key'][3])\n",
    "    api = tweepy.API(authenticate, wait_on_rate_limit = True)\n",
    "    \n",
    "    end_date = datetime.strftime(datetime.now(), '%Y-%m-%d')\n",
    "    start_date = datetime.strftime(datetime.now() - timedelta(7), '%Y-%m-%d')\n",
    "    \n",
    "    try:\n",
    "        fetched_tweets = api.search(keyword, lang='en', count=15, since=start_date, until=end_date)\n",
    "        \n",
    "        print('Fetched ' + str(len(fetched_tweets)) + ' tweets for the string: ' +  keyword)\n",
    "        print('From ' + start_date + ' To ' + end_date)\n",
    "        \n",
    "        tweet_list = [result.text for result in fetched_tweets]\n",
    "        \n",
    "        results = list(map(preprocess_tweet_text, tweet_list))\n",
    "        \n",
    "        return classify_tweets(results)\n",
    "    \n",
    "    except:\n",
    "        return print('Something went wrong...')"
   ]
  },
  {
   "cell_type": "markdown",
   "metadata": {},
   "source": [
    "## User Input"
   ]
  },
  {
   "cell_type": "code",
   "execution_count": 149,
   "metadata": {
    "ExecuteTime": {
     "end_time": "2020-05-22T19:59:06.971731Z",
     "start_time": "2020-05-22T19:58:58.909776Z"
    }
   },
   "outputs": [
    {
     "name": "stdout",
     "output_type": "stream",
     "text": [
      "Enter a search keyword: soccer\n",
      "Fetched 15 tweets for the string: soccer\n",
      "From 2020-05-15 To 2020-05-22\n",
      "Overall negative sentiment: 46.7%\n",
      "Overall positive sentiment: 53.3%\n"
     ]
    }
   ],
   "source": [
    "user_input = input('Enter a search keyword: ')\n",
    "get_tweets(user_input)"
   ]
  },
  {
   "cell_type": "code",
   "execution_count": 150,
   "metadata": {
    "ExecuteTime": {
     "end_time": "2020-05-22T19:59:27.311167Z",
     "start_time": "2020-05-22T19:59:22.685960Z"
    }
   },
   "outputs": [
    {
     "name": "stdout",
     "output_type": "stream",
     "text": [
      "Enter a search keyword: soccer\n",
      "Fetched 15 tweets for the string: soccer\n",
      "From 2020-05-15 To 2020-05-22\n"
     ]
    },
    {
     "data": {
      "text/html": [
       "<div>\n",
       "<style scoped>\n",
       "    .dataframe tbody tr th:only-of-type {\n",
       "        vertical-align: middle;\n",
       "    }\n",
       "\n",
       "    .dataframe tbody tr th {\n",
       "        vertical-align: top;\n",
       "    }\n",
       "\n",
       "    .dataframe thead th {\n",
       "        text-align: right;\n",
       "    }\n",
       "</style>\n",
       "<table border=\"1\" class=\"dataframe\">\n",
       "  <thead>\n",
       "    <tr style=\"text-align: right;\">\n",
       "      <th></th>\n",
       "      <th>Tweet</th>\n",
       "      <th>Sentiment</th>\n",
       "    </tr>\n",
       "  </thead>\n",
       "  <tbody>\n",
       "    <tr>\n",
       "      <th>0</th>\n",
       "      <td>When I was younger my dad didn’t let me play soccer cause it’s a “male” sport and I had to raise my a…</td>\n",
       "      <td>Negative</td>\n",
       "    </tr>\n",
       "    <tr>\n",
       "      <th>1</th>\n",
       "      <td>I ain’t no soccer player but ain’t that extremely risky Lmaooo</td>\n",
       "      <td>Negative</td>\n",
       "    </tr>\n",
       "    <tr>\n",
       "      <th>2</th>\n",
       "      <td>See what our freshmen have been up to lately\\n\\n🗞️  \\n\\nGoDuke 🔵😈⚽️</td>\n",
       "      <td>Positive</td>\n",
       "    </tr>\n",
       "    <tr>\n",
       "      <th>3</th>\n",
       "      <td>Soccer</td>\n",
       "      <td>Negative</td>\n",
       "    </tr>\n",
       "    <tr>\n",
       "      <th>4</th>\n",
       "      <td>Randomly remembered that time we got busted by the cops after the vigil because we paused for Su to ta…</td>\n",
       "      <td>Negative</td>\n",
       "    </tr>\n",
       "    <tr>\n",
       "      <th>5</th>\n",
       "      <td>put soccer skins out every one wants them</td>\n",
       "      <td>Negative</td>\n",
       "    </tr>\n",
       "    <tr>\n",
       "      <th>6</th>\n",
       "      <td>Another profile for you on this Thursday this from GV\\n\\nShe’s a Lady Jaguars senior who says that she is very thankful fo…</td>\n",
       "      <td>Positive</td>\n",
       "    </tr>\n",
       "    <tr>\n",
       "      <th>7</th>\n",
       "      <td>Congrats and good luck to Kyle Patterson on continuing his soccer career at ICC this fall …</td>\n",
       "      <td>Positive</td>\n",
       "    </tr>\n",
       "    <tr>\n",
       "      <th>8</th>\n",
       "      <td>I mean youre not a girl growing up in Ireland if you havent done this And its…</td>\n",
       "      <td>Negative</td>\n",
       "    </tr>\n",
       "    <tr>\n",
       "      <th>9</th>\n",
       "      <td>I won the It Is Now achievement in Sensible World of Soccer for  points on TrueAchievements</td>\n",
       "      <td>Positive</td>\n",
       "    </tr>\n",
       "    <tr>\n",
       "      <th>10</th>\n",
       "      <td>Imma guess the two football soccer clubs are good La Galaxy and Lafc</td>\n",
       "      <td>Positive</td>\n",
       "    </tr>\n",
       "    <tr>\n",
       "      <th>11</th>\n",
       "      <td>This is like the soccer twitter equivalent of an adorable dog picture \\n\\nYou see it as you’re scrolling and it makes yo…</td>\n",
       "      <td>Positive</td>\n",
       "    </tr>\n",
       "    <tr>\n",
       "      <th>12</th>\n",
       "      <td>Happy Summer from Neely  Can you help Mike the Knight find out who each staff member is based upon their Bitmoji…</td>\n",
       "      <td>Positive</td>\n",
       "    </tr>\n",
       "    <tr>\n",
       "      <th>13</th>\n",
       "      <td>What advice would you give a young girl who wants to advance in soccer no matter her age and level⁣⁣⁣\\n⁣⁣⁣\\n⁣ Ce…</td>\n",
       "      <td>Positive</td>\n",
       "    </tr>\n",
       "    <tr>\n",
       "      <th>14</th>\n",
       "      <td>Soccer  social distancing\\n\\nWarEagle</td>\n",
       "      <td>Negative</td>\n",
       "    </tr>\n",
       "  </tbody>\n",
       "</table>\n",
       "</div>"
      ],
      "text/plain": [
       "                                                                                                                            Tweet  \\\n",
       "0                         When I was younger my dad didn’t let me play soccer cause it’s a “male” sport and I had to raise my a…    \n",
       "1                                                                 I ain’t no soccer player but ain’t that extremely risky Lmaooo    \n",
       "2                                                            See what our freshmen have been up to lately\\n\\n🗞️  \\n\\nGoDuke 🔵😈⚽️    \n",
       "3                                                                                                                         Soccer    \n",
       "4                        Randomly remembered that time we got busted by the cops after the vigil because we paused for Su to ta…    \n",
       "5                                                                                       put soccer skins out every one wants them   \n",
       "6     Another profile for you on this Thursday this from GV\\n\\nShe’s a Lady Jaguars senior who says that she is very thankful fo…   \n",
       "7                                    Congrats and good luck to Kyle Patterson on continuing his soccer career at ICC this fall …    \n",
       "8                                                 I mean youre not a girl growing up in Ireland if you havent done this And its…    \n",
       "9                                    I won the It Is Now achievement in Sensible World of Soccer for  points on TrueAchievements    \n",
       "10                                                           Imma guess the two football soccer clubs are good La Galaxy and Lafc   \n",
       "11      This is like the soccer twitter equivalent of an adorable dog picture \\n\\nYou see it as you’re scrolling and it makes yo…   \n",
       "12             Happy Summer from Neely  Can you help Mike the Knight find out who each staff member is based upon their Bitmoji…    \n",
       "13              What advice would you give a young girl who wants to advance in soccer no matter her age and level⁣⁣⁣\\n⁣⁣⁣\\n⁣ Ce…   \n",
       "14                                                                                         Soccer  social distancing\\n\\nWarEagle    \n",
       "\n",
       "   Sentiment  \n",
       "0   Negative  \n",
       "1   Negative  \n",
       "2   Positive  \n",
       "3   Negative  \n",
       "4   Negative  \n",
       "5   Negative  \n",
       "6   Positive  \n",
       "7   Positive  \n",
       "8   Negative  \n",
       "9   Positive  \n",
       "10  Positive  \n",
       "11  Positive  \n",
       "12  Positive  \n",
       "13  Positive  \n",
       "14  Negative  "
      ]
     },
     "execution_count": 150,
     "metadata": {},
     "output_type": "execute_result"
    }
   ],
   "source": [
    "user_input = input('Enter a search keyword: ')\n",
    "get_tweets_labels(user_input)"
   ]
  }
 ],
 "metadata": {
  "kernelspec": {
   "display_name": "Python 3",
   "language": "python",
   "name": "python3"
  },
  "language_info": {
   "codemirror_mode": {
    "name": "ipython",
    "version": 3
   },
   "file_extension": ".py",
   "mimetype": "text/x-python",
   "name": "python",
   "nbconvert_exporter": "python",
   "pygments_lexer": "ipython3",
   "version": "3.7.6"
  },
  "varInspector": {
   "cols": {
    "lenName": 16,
    "lenType": 16,
    "lenVar": 40
   },
   "kernels_config": {
    "python": {
     "delete_cmd_postfix": "",
     "delete_cmd_prefix": "del ",
     "library": "var_list.py",
     "varRefreshCmd": "print(var_dic_list())"
    },
    "r": {
     "delete_cmd_postfix": ") ",
     "delete_cmd_prefix": "rm(",
     "library": "var_list.r",
     "varRefreshCmd": "cat(var_dic_list()) "
    }
   },
   "types_to_exclude": [
    "module",
    "function",
    "builtin_function_or_method",
    "instance",
    "_Feature"
   ],
   "window_display": false
  }
 },
 "nbformat": 4,
 "nbformat_minor": 4
}
